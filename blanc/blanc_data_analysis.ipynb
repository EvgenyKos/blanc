{
  "nbformat": 4,
  "nbformat_minor": 0,
  "metadata": {
    "colab": {
      "name": "blanc_data_analysis.ipynb",
      "provenance": [],
      "collapsed_sections": []
    },
    "kernelspec": {
      "name": "python3",
      "display_name": "Python 3"
    },
    "accelerator": "GPU"
  },
  "cells": [
    {
      "cell_type": "code",
      "metadata": {
        "id": "zfNwWP965XA6",
        "colab_type": "code",
        "colab": {
          "base_uri": "https://localhost:8080/",
          "height": 70
        },
        "outputId": "372b14ee-7837-452f-916c-1172a4f57704"
      },
      "source": [
        "import pandas as pd\n",
        "import matplotlib.pyplot as plt\n",
        "import seaborn as sns\n",
        "import ast"
      ],
      "execution_count": 1,
      "outputs": [
        {
          "output_type": "stream",
          "text": [
            "/usr/local/lib/python3.6/dist-packages/statsmodels/tools/_testing.py:19: FutureWarning: pandas.util.testing is deprecated. Use the functions in the public API at pandas.testing instead.\n",
            "  import pandas.util.testing as tm\n"
          ],
          "name": "stderr"
        }
      ]
    },
    {
      "cell_type": "code",
      "metadata": {
        "id": "AGKLJq2tzi26",
        "colab_type": "code",
        "colab": {}
      },
      "source": [
        "df = pd.read_csv('/content/base_uncased_gap2_norm4_lead5.csv')"
      ],
      "execution_count": 4,
      "outputs": []
    },
    {
      "cell_type": "code",
      "metadata": {
        "id": "MUOGV_Bm5me0",
        "colab_type": "code",
        "colab": {
          "base_uri": "https://localhost:8080/",
          "height": 296
        },
        "outputId": "bf43eb83-dd01-4f42-ace6-64dfdce50c06"
      },
      "source": [
        "df.head()"
      ],
      "execution_count": 24,
      "outputs": [
        {
          "output_type": "execute_result",
          "data": {
            "text/html": [
              "<div>\n",
              "<style scoped>\n",
              "    .dataframe tbody tr th:only-of-type {\n",
              "        vertical-align: middle;\n",
              "    }\n",
              "\n",
              "    .dataframe tbody tr th {\n",
              "        vertical-align: top;\n",
              "    }\n",
              "\n",
              "    .dataframe thead th {\n",
              "        text-align: right;\n",
              "    }\n",
              "</style>\n",
              "<table border=\"1\" class=\"dataframe\">\n",
              "  <thead>\n",
              "    <tr style=\"text-align: right;\">\n",
              "      <th></th>\n",
              "      <th>segid</th>\n",
              "      <th>original</th>\n",
              "      <th>translation</th>\n",
              "      <th>scores</th>\n",
              "      <th>mean</th>\n",
              "      <th>z_scores</th>\n",
              "      <th>z_mean</th>\n",
              "      <th>model_scores</th>\n",
              "      <th>score</th>\n",
              "    </tr>\n",
              "  </thead>\n",
              "  <tbody>\n",
              "    <tr>\n",
              "      <th>0</th>\n",
              "      <td>10005</td>\n",
              "      <td>О необходимости уплачивать проценты по займам ...</td>\n",
              "      <td>The need to pay interest on loans as one of th...</td>\n",
              "      <td>[86, 91, 82]</td>\n",
              "      <td>86.333333</td>\n",
              "      <td>[0.6155309600675426, 0.7858059361811293, 0.364...</td>\n",
              "      <td>0.588656</td>\n",
              "      <td>-0.433427</td>\n",
              "      <td>0.400000</td>\n",
              "    </tr>\n",
              "    <tr>\n",
              "      <th>1</th>\n",
              "      <td>735</td>\n",
              "      <td>Быть на низ плыть, коли вёсел нет.</td>\n",
              "      <td>To be at the bottom, if you don't have oars.</td>\n",
              "      <td>[50, 39, 62]</td>\n",
              "      <td>50.333333</td>\n",
              "      <td>[-0.5723146845468047, -1.6204085607056529, -0....</td>\n",
              "      <td>-0.795477</td>\n",
              "      <td>-0.808455</td>\n",
              "      <td>0.000000</td>\n",
              "    </tr>\n",
              "    <tr>\n",
              "      <th>2</th>\n",
              "      <td>9774</td>\n",
              "      <td>На кадрах ролика видно, как полицейский боретс...</td>\n",
              "      <td>The footage shows a police officer wrestling w...</td>\n",
              "      <td>[86, 95, 79]</td>\n",
              "      <td>86.666667</td>\n",
              "      <td>[0.560999210789468, 0.9296953093216753, 0.4637...</td>\n",
              "      <td>0.651474</td>\n",
              "      <td>-0.463030</td>\n",
              "      <td>0.333333</td>\n",
              "    </tr>\n",
              "    <tr>\n",
              "      <th>3</th>\n",
              "      <td>6682</td>\n",
              "      <td>Почему бы не ввести классификацию информационн...</td>\n",
              "      <td>Why not classify information products accordin...</td>\n",
              "      <td>[71, 86, 84]</td>\n",
              "      <td>80.333333</td>\n",
              "      <td>[-0.17537971479608083, 0.8284516544333062, 0.5...</td>\n",
              "      <td>0.395690</td>\n",
              "      <td>-0.535011</td>\n",
              "      <td>0.200000</td>\n",
              "    </tr>\n",
              "    <tr>\n",
              "      <th>4</th>\n",
              "      <td>8898</td>\n",
              "      <td>Министр здравоохранения России Вероника Скворц...</td>\n",
              "      <td>Russian Minister of Health Veronika Skvortsova...</td>\n",
              "      <td>[78, 83, 89]</td>\n",
              "      <td>83.333333</td>\n",
              "      <td>[0.4116243837713557, 0.49802718990003697, 0.71...</td>\n",
              "      <td>0.541390</td>\n",
              "      <td>-0.331821</td>\n",
              "      <td>0.166667</td>\n",
              "    </tr>\n",
              "  </tbody>\n",
              "</table>\n",
              "</div>"
            ],
            "text/plain": [
              "   segid  ...     score\n",
              "0  10005  ...  0.400000\n",
              "1    735  ...  0.000000\n",
              "2   9774  ...  0.333333\n",
              "3   6682  ...  0.200000\n",
              "4   8898  ...  0.166667\n",
              "\n",
              "[5 rows x 9 columns]"
            ]
          },
          "metadata": {
            "tags": []
          },
          "execution_count": 24
        }
      ]
    },
    {
      "cell_type": "code",
      "metadata": {
        "id": "8JUhXMu7jFwQ",
        "colab_type": "code",
        "colab": {}
      },
      "source": [
        "def split_scores(data, column_name):\n",
        "  for idx, l in enumerate(data[column_name]):\n",
        "    lis = ast.literal_eval(l)\n",
        "    for i, value in enumerate(lis):\n",
        "      data.loc[idx, f'assesor_{i+1}'] = lis[i]\n",
        "  return data"
      ],
      "execution_count": 25,
      "outputs": []
    },
    {
      "cell_type": "code",
      "metadata": {
        "id": "HMXeFS7bqF5w",
        "colab_type": "code",
        "colab": {}
      },
      "source": [
        "df = split_scores(df, 'scores')"
      ],
      "execution_count": 26,
      "outputs": []
    },
    {
      "cell_type": "code",
      "metadata": {
        "id": "aTgt94dFqydw",
        "colab_type": "code",
        "colab": {}
      },
      "source": [
        "def get_mean(data, col_name1, col_name2):\n",
        "  cols = data.loc[: , col_name1 : col_name2]\n",
        "  data[f\"mean{col_name1[-1]}{col_name2[-1]}\"] = cols.mean(axis=1)\n",
        "  return data"
      ],
      "execution_count": 27,
      "outputs": []
    },
    {
      "cell_type": "code",
      "metadata": {
        "id": "COkM3iQPsF80",
        "colab_type": "code",
        "colab": {}
      },
      "source": [
        "df = get_mean(df, 'assesor_1', 'assesor_2')\n",
        "df = get_mean(df, 'assesor_1', 'assesor_3')\n",
        "df = get_mean(df, 'assesor_2', 'assesor_3')"
      ],
      "execution_count": 28,
      "outputs": []
    },
    {
      "cell_type": "code",
      "metadata": {
        "id": "0ZfBkoqZ67up",
        "colab_type": "code",
        "colab": {
          "base_uri": "https://localhost:8080/",
          "height": 296
        },
        "outputId": "78a979a3-cc81-43be-d8ab-063fae1fdb54"
      },
      "source": [
        "ax = df.plot(kind='scatter', x='mean', y='score', color='r')    \n",
        "ax.set_xlabel('da')\n",
        "ax.set_ylabel('blanc')"
      ],
      "execution_count": 29,
      "outputs": [
        {
          "output_type": "execute_result",
          "data": {
            "text/plain": [
              "Text(0, 0.5, 'blanc')"
            ]
          },
          "metadata": {
            "tags": []
          },
          "execution_count": 29
        },
        {
          "output_type": "display_data",
          "data": {
            "image/png": "[encoded data removed]",
            "text/plain": [
              "<Figure size 432x288 with 1 Axes>"
            ]
          },
          "metadata": {
            "tags": [],
            "needs_background": "light"
          }
        }
      ]
    },
    {
      "cell_type": "code",
      "metadata": {
        "id": "rXAwv8vbu54G",
        "colab_type": "code",
        "colab": {
          "base_uri": "https://localhost:8080/",
          "height": 195
        },
        "outputId": "8b9594a7-b099-4015-adeb-4927143b3159"
      },
      "source": [
        "df.corr(method='pearson')"
      ],
      "execution_count": 5,
      "outputs": [
        {
          "output_type": "execute_result",
          "data": {
            "text/html": [
              "<div>\n",
              "<style scoped>\n",
              "    .dataframe tbody tr th:only-of-type {\n",
              "        vertical-align: middle;\n",
              "    }\n",
              "\n",
              "    .dataframe tbody tr th {\n",
              "        vertical-align: top;\n",
              "    }\n",
              "\n",
              "    .dataframe thead th {\n",
              "        text-align: right;\n",
              "    }\n",
              "</style>\n",
              "<table border=\"1\" class=\"dataframe\">\n",
              "  <thead>\n",
              "    <tr style=\"text-align: right;\">\n",
              "      <th></th>\n",
              "      <th>segid</th>\n",
              "      <th>mean</th>\n",
              "      <th>z_mean</th>\n",
              "      <th>model_scores</th>\n",
              "      <th>score</th>\n",
              "    </tr>\n",
              "  </thead>\n",
              "  <tbody>\n",
              "    <tr>\n",
              "      <th>segid</th>\n",
              "      <td>1.000000</td>\n",
              "      <td>0.484763</td>\n",
              "      <td>0.424325</td>\n",
              "      <td>0.306864</td>\n",
              "      <td>0.104647</td>\n",
              "    </tr>\n",
              "    <tr>\n",
              "      <th>mean</th>\n",
              "      <td>0.484763</td>\n",
              "      <td>1.000000</td>\n",
              "      <td>0.983496</td>\n",
              "      <td>0.574323</td>\n",
              "      <td>0.173505</td>\n",
              "    </tr>\n",
              "    <tr>\n",
              "      <th>z_mean</th>\n",
              "      <td>0.424325</td>\n",
              "      <td>0.983496</td>\n",
              "      <td>1.000000</td>\n",
              "      <td>0.556503</td>\n",
              "      <td>0.163234</td>\n",
              "    </tr>\n",
              "    <tr>\n",
              "      <th>model_scores</th>\n",
              "      <td>0.306864</td>\n",
              "      <td>0.574323</td>\n",
              "      <td>0.556503</td>\n",
              "      <td>1.000000</td>\n",
              "      <td>0.203052</td>\n",
              "    </tr>\n",
              "    <tr>\n",
              "      <th>score</th>\n",
              "      <td>0.104647</td>\n",
              "      <td>0.173505</td>\n",
              "      <td>0.163234</td>\n",
              "      <td>0.203052</td>\n",
              "      <td>1.000000</td>\n",
              "    </tr>\n",
              "  </tbody>\n",
              "</table>\n",
              "</div>"
            ],
            "text/plain": [
              "                 segid      mean    z_mean  model_scores     score\n",
              "segid         1.000000  0.484763  0.424325      0.306864  0.104647\n",
              "mean          0.484763  1.000000  0.983496      0.574323  0.173505\n",
              "z_mean        0.424325  0.983496  1.000000      0.556503  0.163234\n",
              "model_scores  0.306864  0.574323  0.556503      1.000000  0.203052\n",
              "score         0.104647  0.173505  0.163234      0.203052  1.000000"
            ]
          },
          "metadata": {
            "tags": []
          },
          "execution_count": 5
        }
      ]
    },
    {
      "cell_type": "code",
      "metadata": {
        "id": "oR9sGSzEKNa4",
        "colab_type": "code",
        "colab": {
          "base_uri": "https://localhost:8080/",
          "height": 314
        },
        "outputId": "59abf010-add7-4763-b384-d008269db98d"
      },
      "source": [
        "df.hist(column='score')"
      ],
      "execution_count": 31,
      "outputs": [
        {
          "output_type": "execute_result",
          "data": {
            "text/plain": [
              "array([[<matplotlib.axes._subplots.AxesSubplot object at 0x7f1020964c50>]],\n",
              "      dtype=object)"
            ]
          },
          "metadata": {
            "tags": []
          },
          "execution_count": 31
        },
        {
          "output_type": "display_data",
          "data": {
            "image/png": "[encoded data removed]",
            "text/plain": [
              "<Figure size 432x288 with 1 Axes>"
            ]
          },
          "metadata": {
            "tags": [],
            "needs_background": "light"
          }
        }
      ]
    },
    {
      "cell_type": "code",
      "metadata": {
        "id": "9-mkSPCCs1sB",
        "colab_type": "code",
        "colab": {
          "base_uri": "https://localhost:8080/",
          "height": 34
        },
        "outputId": "357ca5a1-c974-421d-c382-06e2ecf018bf"
      },
      "source": [
        "df['score'].mean()"
      ],
      "execution_count": 4,
      "outputs": [
        {
          "output_type": "execute_result",
          "data": {
            "text/plain": [
              "0.20370129271252144"
            ]
          },
          "metadata": {
            "tags": []
          },
          "execution_count": 4
        }
      ]
    },
    {
      "cell_type": "code",
      "metadata": {
        "id": "mAdXgP7Ns37g",
        "colab_type": "code",
        "colab": {
          "base_uri": "https://localhost:8080/",
          "height": 34
        },
        "outputId": "e22fa6ea-d358-4f12-b601-a1117e3cf7b6"
      },
      "source": [
        "len(df[df.score==0])/len(df)"
      ],
      "execution_count": 5,
      "outputs": [
        {
          "output_type": "execute_result",
          "data": {
            "text/plain": [
              "0.5682857142857143"
            ]
          },
          "metadata": {
            "tags": []
          },
          "execution_count": 5
        }
      ]
    },
    {
      "cell_type": "code",
      "metadata": {
        "id": "MfkTiM2lMLmd",
        "colab_type": "code",
        "colab": {
          "base_uri": "https://localhost:8080/",
          "height": 34
        },
        "outputId": "cd69935b-384e-4d57-adfc-4afe8d1f5a6e"
      },
      "source": [
        "len(df[df.score>0])/len(df)"
      ],
      "execution_count": 34,
      "outputs": [
        {
          "output_type": "execute_result",
          "data": {
            "text/plain": [
              "0.417"
            ]
          },
          "metadata": {
            "tags": []
          },
          "execution_count": 34
        }
      ]
    },
    {
      "cell_type": "code",
      "metadata": {
        "id": "kVVWySzy8s1X",
        "colab_type": "code",
        "colab": {}
      },
      "source": [
        "df['sentence_len'] = df['original'].str.split().str.len()"
      ],
      "execution_count": 35,
      "outputs": []
    },
    {
      "cell_type": "code",
      "metadata": {
        "id": "V6FQIJIF8tA5",
        "colab_type": "code",
        "colab": {
          "base_uri": "https://localhost:8080/",
          "height": 296
        },
        "outputId": "d31ef020-f623-4084-bc5f-7d0b477e4ae8"
      },
      "source": [
        "ax1 = df.plot(kind='scatter', x='sentence_len', y='score', color='b')    \n",
        "ax1.set_xlabel('Sentence length')\n",
        "ax1.set_ylabel('blanc')"
      ],
      "execution_count": 36,
      "outputs": [
        {
          "output_type": "execute_result",
          "data": {
            "text/plain": [
              "Text(0, 0.5, 'blanc')"
            ]
          },
          "metadata": {
            "tags": []
          },
          "execution_count": 36
        },
        {
          "output_type": "display_data",
          "data": {
            "image/png": "[encoded data removed]",
            "text/plain": [
              "<Figure size 432x288 with 1 Axes>"
            ]
          },
          "metadata": {
            "tags": [],
            "needs_background": "light"
          }
        }
      ]
    },
    {
      "cell_type": "code",
      "metadata": {
        "id": "BN5Yl0Y770yl",
        "colab_type": "code",
        "colab": {
          "base_uri": "https://localhost:8080/",
          "height": 34
        },
        "outputId": "e69ea127-ae66-4ee0-af0f-b1975303577a"
      },
      "source": [
        "df_short = df[(df['sentence_len']<=9) & (df['sentence_len']>=5)]\n",
        "df_short['score'].corr(df_short['mean'])"
      ],
      "execution_count": 39,
      "outputs": [
        {
          "output_type": "execute_result",
          "data": {
            "text/plain": [
              "0.2125030073186632"
            ]
          },
          "metadata": {
            "tags": []
          },
          "execution_count": 39
        }
      ]
    },
    {
      "cell_type": "markdown",
      "metadata": {
        "id": "YL74tup7tR4I",
        "colab_type": "text"
      },
      "source": [
        "# Shuffled translation and replaced words"
      ]
    },
    {
      "cell_type": "code",
      "metadata": {
        "id": "9Yljgdfita2F",
        "colab_type": "code",
        "colab": {}
      },
      "source": [
        "df_shuf = pd.read_csv('/content/base_cased_gap2_norm4_lead5_shuf.csv')\n",
        "df_repl = pd.read_csv('/content/base_uncased_gap2_norm4_lead5_replace1.csv')"
      ],
      "execution_count": 99,
      "outputs": []
    },
    {
      "cell_type": "code",
      "metadata": {
        "id": "3D_CpROIQ0oG",
        "colab_type": "code",
        "colab": {
          "base_uri": "https://localhost:8080/",
          "height": 34
        },
        "outputId": "e2386aa7-5e4d-4564-e6a4-81790b5eef36"
      },
      "source": [
        "df_shuf['score'].mean()"
      ],
      "execution_count": 105,
      "outputs": [
        {
          "output_type": "execute_result",
          "data": {
            "text/plain": [
              "0.0777038383792975"
            ]
          },
          "metadata": {
            "tags": []
          },
          "execution_count": 105
        }
      ]
    },
    {
      "cell_type": "code",
      "metadata": {
        "id": "yCufdfFug_og",
        "colab_type": "code",
        "colab": {}
      },
      "source": [
        "df = df.sort_values(by=['score'])\n",
        "df_shuf = df_shuf.sort_values(by=['score'])\n",
        "df_repl = df_repl.sort_values(by=['score'])"
      ],
      "execution_count": 100,
      "outputs": []
    },
    {
      "cell_type": "code",
      "metadata": {
        "id": "ncg9IVFUthJZ",
        "colab_type": "code",
        "colab": {}
      },
      "source": [
        "def add_index_col(data): \n",
        "  data = data.reset_index(drop =True)\n",
        "  data['index_col'] = pd.RangeIndex(start=1, stop=len(data)+1, step=1)\n",
        "  return data"
      ],
      "execution_count": 101,
      "outputs": []
    },
    {
      "cell_type": "code",
      "metadata": {
        "id": "AGIsagJjjjMq",
        "colab_type": "code",
        "colab": {}
      },
      "source": [
        "df = add_index_col(df)\n",
        "df_shuf = add_index_col(df_shuf)\n",
        "df_repl = add_index_col(df_repl)"
      ],
      "execution_count": 102,
      "outputs": []
    },
    {
      "cell_type": "code",
      "metadata": {
        "id": "tAT9Sp8rdRob",
        "colab_type": "code",
        "colab": {
          "base_uri": "https://localhost:8080/",
          "height": 623
        },
        "outputId": "80a3eba5-aa9b-416e-875a-8acb6cc43fa9"
      },
      "source": [
        "ax1 = df.plot(kind='scatter', x='index_col', y='score', color='g', figsize=(10,10))    \n",
        "ax2 = df_shuf.plot(kind='scatter', x='index_col', y='score', color='r', ax=ax1)    \n",
        "ax3 = df_repl.plot(kind='scatter', x='index_col', y='score', color='b', ax=ax1)\n",
        "ax1.set_xlabel(\"Sentences\")\n",
        "ax1.set_ylabel(\"BLANC score\")\n",
        "ax1.legend(['Without changes', \"Randomly shuffled words in translation\", \"Replaced 1 word in translation\" ])"
      ],
      "execution_count": 103,
      "outputs": [
        {
          "output_type": "execute_result",
          "data": {
            "text/plain": [
              "<matplotlib.legend.Legend at 0x7f1020285898>"
            ]
          },
          "metadata": {
            "tags": []
          },
          "execution_count": 103
        },
        {
          "output_type": "display_data",
          "data": {
            "image/png": "[encoded data removed]",
            "text/plain": [
              "<Figure size 720x720 with 1 Axes>"
            ]
          },
          "metadata": {
            "tags": [],
            "needs_background": "light"
          }
        }
      ]
    },
    {
      "cell_type": "markdown",
      "metadata": {
        "id": "pllVxNDzQuVH",
        "colab_type": "text"
      },
      "source": [
        "# Compare with human anotators"
      ]
    },
    {
      "cell_type": "code",
      "metadata": {
        "id": "Gr6ofzBsui14",
        "colab_type": "code",
        "colab": {}
      },
      "source": [
        "y1 = [df['assesor_1'].corr(df['mean23']), df['assesor_2'].corr(df['mean13']), df['assesor_3'].corr(df['mean12'])]\n",
        "y2 = [df['assesor_1'].corr(df['score']), df['assesor_2'].corr(df['score']), df['assesor_3'].corr(df['score'])]\n",
        "y1.sort()\n",
        "y2.sort()\n",
        "x = [1, 2, 3]"
      ],
      "execution_count": 73,
      "outputs": []
    },
    {
      "cell_type": "code",
      "metadata": {
        "id": "9TkL8bg44lU9",
        "colab_type": "code",
        "colab": {
          "base_uri": "https://localhost:8080/",
          "height": 297
        },
        "outputId": "a09eb22c-7a5e-4f6f-919b-ffb0fe2207d2"
      },
      "source": [
        "fig, ax1 = plt.subplots()\n",
        "\n",
        "color = 'tab:red'\n",
        "ax1.set_xlabel('Assesor')\n",
        "ax1.set_ylabel('Pearson correlation', color=color)\n",
        "ax1.step(x, y1, where= 'mid', color=color, label='Human')\n",
        "ax1.tick_params(axis='y', labelcolor=color)\n",
        "ax1.legend()\n",
        "\n",
        "ax2 = ax1.twinx()  # instantiate a second axes that shares the same x-axis\n",
        "\n",
        "color = 'tab:blue'\n",
        "# ax2.set_ylabel('per corr', color=color)  # we already handled the x-label with ax1\n",
        "ax2.axhline(y=df['score'].corr(df['mean']), color=color, label='Blanc')\n",
        "ax2.tick_params(axis='y', labelcolor=color)\n",
        "ax2.legend(loc='upper center')\n",
        "\n",
        "fig.tight_layout()  # otherwise the right y-label is slightly clipped\n",
        "plt.show()"
      ],
      "execution_count": 92,
      "outputs": [
        {
          "output_type": "display_data",
          "data": {
            "image/png": "[encoded data removed]",
            "text/plain": [
              "<Figure size 432x288 with 2 Axes>"
            ]
          },
          "metadata": {
            "tags": [],
            "needs_background": "light"
          }
        }
      ]
    }
  ]
}