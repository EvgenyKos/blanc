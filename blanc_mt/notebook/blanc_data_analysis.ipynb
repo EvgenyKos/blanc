{
  "nbformat": 4,
  "nbformat_minor": 0,
  "metadata": {
    "colab": {
      "name": "blanc_data_analysis.ipynb",
      "provenance": [],
      "collapsed_sections": []
    },
    "kernelspec": {
      "name": "python3",
      "display_name": "Python 3"
    },
    "accelerator": "GPU"
  },
  "cells": [
    {
      "cell_type": "code",
      "metadata": {
        "id": "zfNwWP965XA6",
        "colab_type": "code",
        "colab": {
          "base_uri": "https://localhost:8080/",
          "height": 70
        },
        "outputId": "8517ddbb-3178-4b29-822a-57b495c42fd7"
      },
      "source": [
        "import pandas as pd\n",
        "import matplotlib.pyplot as plt\n",
        "from notebook.notebook_utils import *"
      ],
      "execution_count": null,
      "outputs": [
        {
          "output_type": "stream",
          "text": [
            "/usr/local/lib/python3.6/dist-packages/statsmodels/tools/_testing.py:19: FutureWarning: pandas.util.testing is deprecated. Use the functions in the public API at pandas.testing instead.\n",
            "  import pandas.util.testing as tm\n"
          ],
          "name": "stderr"
        }
      ]
    },
    {
      "cell_type": "code",
      "metadata": {
        "id": "AGKLJq2tzi26",
        "colab_type": "code",
        "colab": {}
      },
      "source": [
        "df = pd.read_csv('/results/base_uncased_gap2_norm4_lead5.csv')"
      ],
      "execution_count": null,
      "outputs": []
    },
    {
      "cell_type": "markdown",
      "metadata": {
        "id": "N8db9S7x2dP0",
        "colab_type": "text"
      },
      "source": [
        "Splitting the 'scores' column into 3 columns for each assessor  "
      ]
    },
    {
      "cell_type": "code",
      "metadata": {
        "id": "HMXeFS7bqF5w",
        "colab_type": "code",
        "colab": {}
      },
      "source": [
        "df = split_scores(df, 'scores')"
      ],
      "execution_count": null,
      "outputs": []
    },
    {
      "cell_type": "markdown",
      "metadata": {
        "id": "enf0YmUF29wV",
        "colab_type": "text"
      },
      "source": [
        "Calculating the mean value between two assessors"
      ]
    },
    {
      "cell_type": "code",
      "metadata": {
        "id": "WFiUvhHn5oN9",
        "colab_type": "code",
        "colab": {}
      },
      "source": [
        ""
      ],
      "execution_count": null,
      "outputs": []
    },
    {
      "cell_type": "code",
      "metadata": {
        "id": "COkM3iQPsF80",
        "colab_type": "code",
        "colab": {}
      },
      "source": [
        "df = get_mean(df, 'assesor_1', 'assesor_2')\n",
        "df = get_mean(df, 'assesor_1', 'assesor_3')\n",
        "df = get_mean(df, 'assesor_2', 'assesor_3')"
      ],
      "execution_count": null,
      "outputs": []
    },
    {
      "cell_type": "markdown",
      "metadata": {
        "id": "en34QDU23BbU",
        "colab_type": "text"
      },
      "source": [
        "Scattered plot for BLANC score and mean Direct Assessment (DA) score"
      ]
    },
    {
      "cell_type": "code",
      "metadata": {
        "id": "0ZfBkoqZ67up",
        "colab_type": "code",
        "colab": {
          "base_uri": "https://localhost:8080/",
          "height": 296
        },
        "outputId": "1ca2e9f6-fc1b-4771-a577-49fdee2fc81b"
      },
      "source": [
        "ax = df.plot(kind='scatter', x='mean', y='score', color='r')    \n",
        "ax.set_xlabel('da')\n",
        "ax.set_ylabel('blanc')"
      ],
      "execution_count": null,
      "outputs": [
        {
          "output_type": "execute_result",
          "data": {
            "text/plain": [
              "Text(0, 0.5, 'blanc')"
            ]
          },
          "metadata": {
            "tags": []
          },
          "execution_count": 3
        },
        {
          "output_type": "display_data",
          "data": {
            "image/png": "[encoded data removed]",
            "text/plain": [
              "<Figure size 432x288 with 1 Axes>"
            ]
          },
          "metadata": {
            "tags": [],
            "needs_background": "light"
          }
        }
      ]
    },
    {
      "cell_type": "markdown",
      "metadata": {
        "id": "d1XVrH1b3jiI",
        "colab_type": "text"
      },
      "source": [
        "Pearson correlation table"
      ]
    },
    {
      "cell_type": "code",
      "metadata": {
        "id": "rXAwv8vbu54G",
        "colab_type": "code",
        "colab": {
          "base_uri": "https://localhost:8080/",
          "height": 195
        },
        "outputId": "96975ce4-19ed-4499-c5fe-2f3e1c2b439e"
      },
      "source": [
        "df.corr(method='pearson')"
      ],
      "execution_count": null,
      "outputs": [
        {
          "output_type": "execute_result",
          "data": {
            "text/html": [
              "<div>\n",
              "<style scoped>\n",
              "    .dataframe tbody tr th:only-of-type {\n",
              "        vertical-align: middle;\n",
              "    }\n",
              "\n",
              "    .dataframe tbody tr th {\n",
              "        vertical-align: top;\n",
              "    }\n",
              "\n",
              "    .dataframe thead th {\n",
              "        text-align: right;\n",
              "    }\n",
              "</style>\n",
              "<table border=\"1\" class=\"dataframe\">\n",
              "  <thead>\n",
              "    <tr style=\"text-align: right;\">\n",
              "      <th></th>\n",
              "      <th>segid</th>\n",
              "      <th>mean</th>\n",
              "      <th>z_mean</th>\n",
              "      <th>model_scores</th>\n",
              "      <th>score</th>\n",
              "    </tr>\n",
              "  </thead>\n",
              "  <tbody>\n",
              "    <tr>\n",
              "      <th>segid</th>\n",
              "      <td>1.000000</td>\n",
              "      <td>0.484763</td>\n",
              "      <td>0.424325</td>\n",
              "      <td>0.306864</td>\n",
              "      <td>0.104647</td>\n",
              "    </tr>\n",
              "    <tr>\n",
              "      <th>mean</th>\n",
              "      <td>0.484763</td>\n",
              "      <td>1.000000</td>\n",
              "      <td>0.983496</td>\n",
              "      <td>0.574323</td>\n",
              "      <td>0.173505</td>\n",
              "    </tr>\n",
              "    <tr>\n",
              "      <th>z_mean</th>\n",
              "      <td>0.424325</td>\n",
              "      <td>0.983496</td>\n",
              "      <td>1.000000</td>\n",
              "      <td>0.556503</td>\n",
              "      <td>0.163234</td>\n",
              "    </tr>\n",
              "    <tr>\n",
              "      <th>model_scores</th>\n",
              "      <td>0.306864</td>\n",
              "      <td>0.574323</td>\n",
              "      <td>0.556503</td>\n",
              "      <td>1.000000</td>\n",
              "      <td>0.203052</td>\n",
              "    </tr>\n",
              "    <tr>\n",
              "      <th>score</th>\n",
              "      <td>0.104647</td>\n",
              "      <td>0.173505</td>\n",
              "      <td>0.163234</td>\n",
              "      <td>0.203052</td>\n",
              "      <td>1.000000</td>\n",
              "    </tr>\n",
              "  </tbody>\n",
              "</table>\n",
              "</div>"
            ],
            "text/plain": [
              "                 segid      mean    z_mean  model_scores     score\n",
              "segid         1.000000  0.484763  0.424325      0.306864  0.104647\n",
              "mean          0.484763  1.000000  0.983496      0.574323  0.173505\n",
              "z_mean        0.424325  0.983496  1.000000      0.556503  0.163234\n",
              "model_scores  0.306864  0.574323  0.556503      1.000000  0.203052\n",
              "score         0.104647  0.173505  0.163234      0.203052  1.000000"
            ]
          },
          "metadata": {
            "tags": []
          },
          "execution_count": 4
        }
      ]
    },
    {
      "cell_type": "markdown",
      "metadata": {
        "id": "rE38_Zkm3pct",
        "colab_type": "text"
      },
      "source": [
        "Distribution of BLANC score"
      ]
    },
    {
      "cell_type": "code",
      "metadata": {
        "id": "oR9sGSzEKNa4",
        "colab_type": "code",
        "colab": {
          "base_uri": "https://localhost:8080/",
          "height": 314
        },
        "outputId": "782f088a-be9d-450d-939f-f80c4192750f"
      },
      "source": [
        "df.hist(column='score')"
      ],
      "execution_count": null,
      "outputs": [
        {
          "output_type": "execute_result",
          "data": {
            "text/plain": [
              "array([[<matplotlib.axes._subplots.AxesSubplot object at 0x7fc1a2810358>]],\n",
              "      dtype=object)"
            ]
          },
          "metadata": {
            "tags": []
          },
          "execution_count": 5
        },
        {
          "output_type": "display_data",
          "data": {
            "image/png": "[encoded data removed]",
            "text/plain": [
              "<Figure size 432x288 with 1 Axes>"
            ]
          },
          "metadata": {
            "tags": [],
            "needs_background": "light"
          }
        }
      ]
    },
    {
      "cell_type": "markdown",
      "metadata": {
        "id": "XcM5H7Sc3z2w",
        "colab_type": "text"
      },
      "source": [
        "Mean BLANC score"
      ]
    },
    {
      "cell_type": "code",
      "metadata": {
        "id": "9-mkSPCCs1sB",
        "colab_type": "code",
        "colab": {
          "base_uri": "https://localhost:8080/",
          "height": 34
        },
        "outputId": "c4cc8575-bee1-4b1b-f315-d3953980aaf3"
      },
      "source": [
        "df['score'].mean()"
      ],
      "execution_count": null,
      "outputs": [
        {
          "output_type": "execute_result",
          "data": {
            "text/plain": [
              "0.20277807134079237"
            ]
          },
          "metadata": {
            "tags": []
          },
          "execution_count": 6
        }
      ]
    },
    {
      "cell_type": "markdown",
      "metadata": {
        "id": "vVpXcDwq37-x",
        "colab_type": "text"
      },
      "source": [
        "Proportion of BLANC scores with zero values"
      ]
    },
    {
      "cell_type": "code",
      "metadata": {
        "id": "mAdXgP7Ns37g",
        "colab_type": "code",
        "colab": {
          "base_uri": "https://localhost:8080/",
          "height": 34
        },
        "outputId": "808b4ac1-bf5f-4a7c-9c0b-1bfc91523504"
      },
      "source": [
        "len(df[df.score==0])/len(df)"
      ],
      "execution_count": null,
      "outputs": [
        {
          "output_type": "execute_result",
          "data": {
            "text/plain": [
              "0.57"
            ]
          },
          "metadata": {
            "tags": []
          },
          "execution_count": 7
        }
      ]
    },
    {
      "cell_type": "markdown",
      "metadata": {
        "colab_type": "text",
        "id": "eK8KMONr4Mbr"
      },
      "source": [
        "Proportion of BLANC scores with positive values"
      ]
    },
    {
      "cell_type": "code",
      "metadata": {
        "id": "MfkTiM2lMLmd",
        "colab_type": "code",
        "colab": {
          "base_uri": "https://localhost:8080/",
          "height": 34
        },
        "outputId": "c0cb7cfe-3b29-4154-de71-efdb1130f488"
      },
      "source": [
        "len(df[df.score>0])/len(df)"
      ],
      "execution_count": null,
      "outputs": [
        {
          "output_type": "execute_result",
          "data": {
            "text/plain": [
              "0.417"
            ]
          },
          "metadata": {
            "tags": []
          },
          "execution_count": 8
        }
      ]
    },
    {
      "cell_type": "markdown",
      "metadata": {
        "id": "Dn6DXPK-4aSB",
        "colab_type": "text"
      },
      "source": [
        "New column for sentence lengnth in Russian text"
      ]
    },
    {
      "cell_type": "code",
      "metadata": {
        "id": "kVVWySzy8s1X",
        "colab_type": "code",
        "colab": {}
      },
      "source": [
        "df['sentence_len'] = df['original'].str.split().str.len()"
      ],
      "execution_count": null,
      "outputs": []
    },
    {
      "cell_type": "markdown",
      "metadata": {
        "colab_type": "text",
        "id": "3AL-ZG4I4ohe"
      },
      "source": [
        "Scattered plot for BLANC score and sentence lenght in Russian text"
      ]
    },
    {
      "cell_type": "code",
      "metadata": {
        "id": "V6FQIJIF8tA5",
        "colab_type": "code",
        "colab": {
          "base_uri": "https://localhost:8080/",
          "height": 296
        },
        "outputId": "a3df1288-6f2d-400b-9527-58f5e39add47"
      },
      "source": [
        "ax1 = df.plot(kind='scatter', x='sentence_len', y='score', color='b')    \n",
        "ax1.set_xlabel('Sentence length')\n",
        "ax1.set_ylabel('blanc')"
      ],
      "execution_count": null,
      "outputs": [
        {
          "output_type": "execute_result",
          "data": {
            "text/plain": [
              "Text(0, 0.5, 'blanc')"
            ]
          },
          "metadata": {
            "tags": []
          },
          "execution_count": 10
        },
        {
          "output_type": "display_data",
          "data": {
            "image/png": "[encoded data removed]",
            "text/plain": [
              "<Figure size 432x288 with 1 Axes>"
            ]
          },
          "metadata": {
            "tags": [],
            "needs_background": "light"
          }
        }
      ]
    },
    {
      "cell_type": "markdown",
      "metadata": {
        "id": "YL74tup7tR4I",
        "colab_type": "text"
      },
      "source": [
        "# Shuffled translation and replaced words"
      ]
    },
    {
      "cell_type": "code",
      "metadata": {
        "id": "9Yljgdfita2F",
        "colab_type": "code",
        "colab": {}
      },
      "source": [
        "df_shuf = pd.read_csv('/content/base_uncased_gap2_norm4_lead5_shuf.csv')\n",
        "df_repl = pd.read_csv('/content/base_uncased_gap2_norm4_lead5_replace1.csv')"
      ],
      "execution_count": null,
      "outputs": []
    },
    {
      "cell_type": "markdown",
      "metadata": {
        "colab_type": "text",
        "id": "e0lQORGX5KG7"
      },
      "source": [
        "Mean BLANC score for shuffled text"
      ]
    },
    {
      "cell_type": "code",
      "metadata": {
        "id": "3D_CpROIQ0oG",
        "colab_type": "code",
        "colab": {
          "base_uri": "https://localhost:8080/",
          "height": 34
        },
        "outputId": "3b3a393b-9824-4b73-e8bc-8e638f625917"
      },
      "source": [
        "df_shuf['score'].mean()"
      ],
      "execution_count": null,
      "outputs": [
        {
          "output_type": "execute_result",
          "data": {
            "text/plain": [
              "0.07770383837929719"
            ]
          },
          "metadata": {
            "tags": []
          },
          "execution_count": 3
        }
      ]
    },
    {
      "cell_type": "markdown",
      "metadata": {
        "id": "ViOZV3cQ5SQ3",
        "colab_type": "text"
      },
      "source": [
        "Pearson correlation between BLANC score and mean DA for shuffled text"
      ]
    },
    {
      "cell_type": "code",
      "metadata": {
        "id": "rQj4Z2f30Sfe",
        "colab_type": "code",
        "colab": {
          "base_uri": "https://localhost:8080/",
          "height": 34
        },
        "outputId": "8f0d39ac-ba32-433a-c65e-0a906c74d702"
      },
      "source": [
        "df_shuf['score'].corr(df_shuf['mean'])"
      ],
      "execution_count": null,
      "outputs": [
        {
          "output_type": "execute_result",
          "data": {
            "text/plain": [
              "0.08837567073088529"
            ]
          },
          "metadata": {
            "tags": []
          },
          "execution_count": 4
        }
      ]
    },
    {
      "cell_type": "markdown",
      "metadata": {
        "id": "LKd4sD7r5stl",
        "colab_type": "text"
      },
      "source": [
        "Pearson correlation between BLANC score and mean DA for text with replaced words"
      ]
    },
    {
      "cell_type": "code",
      "metadata": {
        "id": "KldFlfyJ1dmb",
        "colab_type": "code",
        "colab": {
          "base_uri": "https://localhost:8080/",
          "height": 34
        },
        "outputId": "1b73043e-0051-40d5-f91d-d8f1acf1d11c"
      },
      "source": [
        "df_repl['score'].corr(df_repl['mean'])"
      ],
      "execution_count": null,
      "outputs": [
        {
          "output_type": "execute_result",
          "data": {
            "text/plain": [
              "0.15273056359662124"
            ]
          },
          "metadata": {
            "tags": []
          },
          "execution_count": 5
        }
      ]
    },
    {
      "cell_type": "markdown",
      "metadata": {
        "id": "LPeMDEvG52Kq",
        "colab_type": "text"
      },
      "source": [
        "Mean BLANC score for text with replaced words"
      ]
    },
    {
      "cell_type": "code",
      "metadata": {
        "id": "Yu9TvVQD2s8f",
        "colab_type": "code",
        "colab": {
          "base_uri": "https://localhost:8080/",
          "height": 34
        },
        "outputId": "453ca9d6-0682-4ac9-fda8-9b3fc92b84bf"
      },
      "source": [
        "df_repl['score'].mean()"
      ],
      "execution_count": null,
      "outputs": [
        {
          "output_type": "execute_result",
          "data": {
            "text/plain": [
              "0.15373054347183662"
            ]
          },
          "metadata": {
            "tags": []
          },
          "execution_count": 6
        }
      ]
    },
    {
      "cell_type": "markdown",
      "metadata": {
        "id": "9hf_cztt6Aa-",
        "colab_type": "text"
      },
      "source": [
        "Distribution of BLANC score of shuffled text"
      ]
    },
    {
      "cell_type": "code",
      "metadata": {
        "id": "QzDRA3RD8AV4",
        "colab_type": "code",
        "colab": {
          "base_uri": "https://localhost:8080/",
          "height": 314
        },
        "outputId": "fcff318a-56a3-4070-f455-ec8725842622"
      },
      "source": [
        "df_shuf.hist(column='score')"
      ],
      "execution_count": null,
      "outputs": [
        {
          "output_type": "execute_result",
          "data": {
            "text/plain": [
              "array([[<matplotlib.axes._subplots.AxesSubplot object at 0x7fe5d09e36d8>]],\n",
              "      dtype=object)"
            ]
          },
          "metadata": {
            "tags": []
          },
          "execution_count": 7
        },
        {
          "output_type": "display_data",
          "data": {
            "image/png": "[encoded data removed]",
            "text/plain": [
              "<Figure size 432x288 with 1 Axes>"
            ]
          },
          "metadata": {
            "tags": [],
            "needs_background": "light"
          }
        }
      ]
    },
    {
      "cell_type": "markdown",
      "metadata": {
        "id": "DcwVgKRG6dRF",
        "colab_type": "text"
      },
      "source": [
        "Sorting datasets based on BLANC scores"
      ]
    },
    {
      "cell_type": "code",
      "metadata": {
        "id": "yCufdfFug_og",
        "colab_type": "code",
        "colab": {}
      },
      "source": [
        "df = df.sort_values(by=['score'])\n",
        "df_shuf = df_shuf.sort_values(by=['score'])\n",
        "df_repl = df_repl.sort_values(by=['score'])"
      ],
      "execution_count": null,
      "outputs": []
    },
    {
      "cell_type": "markdown",
      "metadata": {
        "id": "s76uBwlP6pcd",
        "colab_type": "text"
      },
      "source": [
        "Adding index column"
      ]
    },
    {
      "cell_type": "code",
      "metadata": {
        "id": "AGIsagJjjjMq",
        "colab_type": "code",
        "colab": {}
      },
      "source": [
        "df = add_index_col(df)\n",
        "df_shuf = add_index_col(df_shuf)\n",
        "df_repl = add_index_col(df_repl)"
      ],
      "execution_count": null,
      "outputs": []
    },
    {
      "cell_type": "markdown",
      "metadata": {
        "id": "d3hJTtLn6vH0",
        "colab_type": "text"
      },
      "source": [
        "Scattered plot of sorted datasets"
      ]
    },
    {
      "cell_type": "code",
      "metadata": {
        "id": "tAT9Sp8rdRob",
        "colab_type": "code",
        "colab": {
          "base_uri": "https://localhost:8080/",
          "height": 623
        },
        "outputId": "578c66a1-c637-4d44-d0f3-81764be0bc0a"
      },
      "source": [
        "ax1 = df.plot(kind='scatter', x='index_col', y='score', color='g', figsize=(10,10))    \n",
        "ax2 = df_shuf.plot(kind='scatter', x='index_col', y='score', color='r', ax=ax1)    \n",
        "ax3 = df_repl.plot(kind='scatter', x='index_col', y='score', color='b', ax=ax1)\n",
        "ax1.set_xlabel(\"Sentences\")\n",
        "ax1.set_ylabel(\"BLANC score\")\n",
        "ax1.legend(['Without changes', \"Randomly shuffled words in translation\", \"Replaced 1 word in translation\" ])"
      ],
      "execution_count": null,
      "outputs": [
        {
          "output_type": "execute_result",
          "data": {
            "text/plain": [
              "<matplotlib.legend.Legend at 0x7f3ff56f65f8>"
            ]
          },
          "metadata": {
            "tags": []
          },
          "execution_count": 8
        },
        {
          "output_type": "display_data",
          "data": {
            "image/png": "[encoded data removed]",
            "text/plain": [
              "<Figure size 720x720 with 1 Axes>"
            ]
          },
          "metadata": {
            "tags": [],
            "needs_background": "light"
          }
        }
      ]
    },
    {
      "cell_type": "markdown",
      "metadata": {
        "id": "pllVxNDzQuVH",
        "colab_type": "text"
      },
      "source": [
        "# Compare with human anotators"
      ]
    },
    {
      "cell_type": "code",
      "metadata": {
        "id": "Gr6ofzBsui14",
        "colab_type": "code",
        "colab": {}
      },
      "source": [
        "y1 = [df['assesor_1'].corr(df['mean23']), df['assesor_2'].corr(df['mean13']), df['assesor_3'].corr(df['mean12'])]\n",
        "y2 = [df['assesor_1'].corr(df['score']), df['assesor_2'].corr(df['score']), df['assesor_3'].corr(df['score'])]\n",
        "y1.sort()\n",
        "y2.sort()\n",
        "x = ['1', '2', '3']"
      ],
      "execution_count": null,
      "outputs": []
    },
    {
      "cell_type": "markdown",
      "metadata": {
        "id": "R3zB6J8C7Vdr",
        "colab_type": "text"
      },
      "source": [
        "Correlation of each assessor with other two (in red) and correlation of mean DA with BLANC score (in blue). "
      ]
    },
    {
      "cell_type": "code",
      "metadata": {
        "id": "9TkL8bg44lU9",
        "colab_type": "code",
        "colab": {
          "base_uri": "https://localhost:8080/",
          "height": 297
        },
        "outputId": "ab08e8a2-1c9d-4076-b552-ee8fef6a7860"
      },
      "source": [
        "fig, ax1 = plt.subplots()\n",
        "\n",
        "color = 'tab:red'\n",
        "ax1.set_xlabel('Assessor')\n",
        "ax1.set_ylabel('Pearson correlation', color=color)\n",
        "ax1.step(x, y1, where= 'mid', color=color, label='Human')\n",
        "ax1.tick_params(axis='y', labelcolor=color)\n",
        "ax1.legend()\n",
        "\n",
        "ax2 = ax1.twinx() \n",
        "\n",
        "color = 'tab:blue'\n",
        "ax2.axhline(y=df['score'].corr(df['mean']), color=color, label='Blanc')\n",
        "ax2.tick_params(axis='y', labelcolor=color)\n",
        "ax2.legend(loc='upper center')\n",
        "\n",
        "fig.tight_layout() \n",
        "plt.show()"
      ],
      "execution_count": null,
      "outputs": [
        {
          "output_type": "display_data",
          "data": {
            "image/png": "[encoded data removed]",
            "text/plain": [
              "<Figure size 432x288 with 2 Axes>"
            ]
          },
          "metadata": {
            "tags": [],
            "needs_background": "light"
          }
        }
      ]
    }
  ]
}